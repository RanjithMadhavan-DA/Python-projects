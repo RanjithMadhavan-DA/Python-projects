{
 "cells": [
  {
   "cell_type": "code",
   "execution_count": 3,
   "id": "e317480a-978a-461e-8167-cc3eb27a1f8c",
   "metadata": {},
   "outputs": [],
   "source": [
    "#webscrapping project"
   ]
  },
  {
   "cell_type": "code",
   "execution_count": null,
   "id": "b89cbc2f-ff5b-43d9-82ff-1bd89f995aca",
   "metadata": {},
   "outputs": [],
   "source": [
    "from bs4 import BeautifulSoup\n",
    "import requests"
   ]
  },
  {
   "cell_type": "code",
   "execution_count": 5,
   "id": "80f5e547-fba3-4b53-948a-b0356fb781e0",
   "metadata": {},
   "outputs": [],
   "source": [
    "url='https://stockanalysis.com/list/sp-500-stocks/'"
   ]
  },
  {
   "cell_type": "code",
   "execution_count": 7,
   "id": "66c29e8a-e7b9-49aa-8b0a-971b238e5ba3",
   "metadata": {},
   "outputs": [],
   "source": [
    "headers={\n",
    "        'User-Agent': 'Mozilla/5.0 (Windows NT 10.0; Win64; x64) AppleWebKit/537.36 (KHTML, like Gecko) Chrome/91.0.4472.124 Safari/537.36'\n",
    "\n",
    "}"
   ]
  },
  {
   "cell_type": "code",
   "execution_count": 11,
   "id": "6d8d3a72-e0a3-46cc-bf46-81822a635ec6",
   "metadata": {},
   "outputs": [],
   "source": [
    "path=requests.get(url,headers=headers)"
   ]
  },
  {
   "cell_type": "code",
   "execution_count": 15,
   "id": "f7ddc75f-ee37-4727-9eec-6786b9c5d51c",
   "metadata": {},
   "outputs": [],
   "source": [
    "soup=BeautifulSoup(path.text,'html')"
   ]
  },
  {
   "cell_type": "code",
   "execution_count": 33,
   "id": "46727a59-0547-43a3-b450-14401f93a7b6",
   "metadata": {},
   "outputs": [],
   "source": [
    "t=soup.find_all('table',class_=\"symbol-table svelte-utsffj\")"
   ]
  },
  {
   "cell_type": "code",
   "execution_count": 41,
   "id": "f852badc-d1ca-4673-b91b-832e6ce8a8ff",
   "metadata": {},
   "outputs": [],
   "source": [
    "column=soup.find_all('th')"
   ]
  },
  {
   "cell_type": "code",
   "execution_count": 45,
   "id": "e11b416c-1ca1-43cd-9a1a-ba6550a1dead",
   "metadata": {},
   "outputs": [
    {
     "name": "stdout",
     "output_type": "stream",
     "text": [
      "['No. ', 'Symbol ', 'Company Name ', ' Market Cap  ', 'Stock Price ', '% Change ', 'Revenue ']\n"
     ]
    }
   ],
   "source": [
    "column_name= [col.text for col in column]\n",
    "print(column_name)\n"
   ]
  },
  {
   "cell_type": "code",
   "execution_count": 71,
   "id": "78a343a0-4b3e-4994-b452-454faaf9c007",
   "metadata": {},
   "outputs": [],
   "source": [
    "import pandas as pd\n",
    "df=pd.DataFrame(columns=column_name)"
   ]
  },
  {
   "cell_type": "code",
   "execution_count": 73,
   "id": "cb6b7929-146e-42ef-8ae2-108b56778abe",
   "metadata": {},
   "outputs": [
    {
     "data": {
      "text/html": [
       "<div>\n",
       "<style scoped>\n",
       "    .dataframe tbody tr th:only-of-type {\n",
       "        vertical-align: middle;\n",
       "    }\n",
       "\n",
       "    .dataframe tbody tr th {\n",
       "        vertical-align: top;\n",
       "    }\n",
       "\n",
       "    .dataframe thead th {\n",
       "        text-align: right;\n",
       "    }\n",
       "</style>\n",
       "<table border=\"1\" class=\"dataframe\">\n",
       "  <thead>\n",
       "    <tr style=\"text-align: right;\">\n",
       "      <th></th>\n",
       "      <th>No.</th>\n",
       "      <th>Symbol</th>\n",
       "      <th>Company Name</th>\n",
       "      <th>Market Cap</th>\n",
       "      <th>Stock Price</th>\n",
       "      <th>% Change</th>\n",
       "      <th>Revenue</th>\n",
       "    </tr>\n",
       "  </thead>\n",
       "  <tbody>\n",
       "  </tbody>\n",
       "</table>\n",
       "</div>"
      ],
      "text/plain": [
       "Empty DataFrame\n",
       "Columns: [No. , Symbol , Company Name ,  Market Cap  , Stock Price , % Change , Revenue ]\n",
       "Index: []"
      ]
     },
     "execution_count": 73,
     "metadata": {},
     "output_type": "execute_result"
    }
   ],
   "source": [
    "df"
   ]
  },
  {
   "cell_type": "code",
   "execution_count": 57,
   "id": "7c008bf9-f24c-480a-883b-dcfc85c6a2a1",
   "metadata": {},
   "outputs": [],
   "source": [
    "row=soup.find_all('tr')"
   ]
  },
  {
   "cell_type": "code",
   "execution_count": 83,
   "id": "f1faf84e-b626-40bc-86d2-cb4e2d1caa37",
   "metadata": {},
   "outputs": [],
   "source": [
    "for r in row[1:]:\n",
    "    row_name=r.find_all('td')\n",
    "    row_names= [ro.text for ro in row_name]\n",
    "    #print(row_names)\n",
    "    length=len(df)\n",
    "    df.loc[length]=row_names\n",
    "    "
   ]
  },
  {
   "cell_type": "code",
   "execution_count": 85,
   "id": "6192960d-310f-4b47-9b15-2178ebed4052",
   "metadata": {},
   "outputs": [
    {
     "data": {
      "text/html": [
       "<div>\n",
       "<style scoped>\n",
       "    .dataframe tbody tr th:only-of-type {\n",
       "        vertical-align: middle;\n",
       "    }\n",
       "\n",
       "    .dataframe tbody tr th {\n",
       "        vertical-align: top;\n",
       "    }\n",
       "\n",
       "    .dataframe thead th {\n",
       "        text-align: right;\n",
       "    }\n",
       "</style>\n",
       "<table border=\"1\" class=\"dataframe\">\n",
       "  <thead>\n",
       "    <tr style=\"text-align: right;\">\n",
       "      <th></th>\n",
       "      <th>No.</th>\n",
       "      <th>Symbol</th>\n",
       "      <th>Company Name</th>\n",
       "      <th>Market Cap</th>\n",
       "      <th>Stock Price</th>\n",
       "      <th>% Change</th>\n",
       "      <th>Revenue</th>\n",
       "    </tr>\n",
       "  </thead>\n",
       "  <tbody>\n",
       "    <tr>\n",
       "      <th>0</th>\n",
       "      <td>1</td>\n",
       "      <td>AAPL</td>\n",
       "      <td>Apple Inc.</td>\n",
       "      <td>3,561.72B</td>\n",
       "      <td>236.85</td>\n",
       "      <td>-2.41%</td>\n",
       "      <td>391.04B</td>\n",
       "    </tr>\n",
       "    <tr>\n",
       "      <th>1</th>\n",
       "      <td>2</td>\n",
       "      <td>NVDA</td>\n",
       "      <td>NVIDIA Corporation</td>\n",
       "      <td>3,328.44B</td>\n",
       "      <td>135.91</td>\n",
       "      <td>-3.00%</td>\n",
       "      <td>113.27B</td>\n",
       "    </tr>\n",
       "    <tr>\n",
       "      <th>2</th>\n",
       "      <td>3</td>\n",
       "      <td>MSFT</td>\n",
       "      <td>Microsoft Corporation</td>\n",
       "      <td>3,114.84B</td>\n",
       "      <td>418.95</td>\n",
       "      <td>-1.32%</td>\n",
       "      <td>254.19B</td>\n",
       "    </tr>\n",
       "    <tr>\n",
       "      <th>3</th>\n",
       "      <td>4</td>\n",
       "      <td>GOOG</td>\n",
       "      <td>Alphabet Inc.</td>\n",
       "      <td>2,357.02B</td>\n",
       "      <td>193.17</td>\n",
       "      <td>-1.14%</td>\n",
       "      <td>339.86B</td>\n",
       "    </tr>\n",
       "    <tr>\n",
       "      <th>4</th>\n",
       "      <td>5</td>\n",
       "      <td>GOOGL</td>\n",
       "      <td>Alphabet Inc.</td>\n",
       "      <td>2,350.76B</td>\n",
       "      <td>192.04</td>\n",
       "      <td>-0.98%</td>\n",
       "      <td>339.86B</td>\n",
       "    </tr>\n",
       "    <tr>\n",
       "      <th>...</th>\n",
       "      <td>...</td>\n",
       "      <td>...</td>\n",
       "      <td>...</td>\n",
       "      <td>...</td>\n",
       "      <td>...</td>\n",
       "      <td>...</td>\n",
       "      <td>...</td>\n",
       "    </tr>\n",
       "    <tr>\n",
       "      <th>498</th>\n",
       "      <td>499</td>\n",
       "      <td>CE</td>\n",
       "      <td>Celanese Corporation</td>\n",
       "      <td>7.11B</td>\n",
       "      <td>65.01</td>\n",
       "      <td>0.11%</td>\n",
       "      <td>10.48B</td>\n",
       "    </tr>\n",
       "    <tr>\n",
       "      <th>499</th>\n",
       "      <td>500</td>\n",
       "      <td>PARA</td>\n",
       "      <td>Paramount Global</td>\n",
       "      <td>6.99B</td>\n",
       "      <td>10.48</td>\n",
       "      <td>-1.50%</td>\n",
       "      <td>28.87B</td>\n",
       "    </tr>\n",
       "    <tr>\n",
       "      <th>500</th>\n",
       "      <td>501</td>\n",
       "      <td>BWA</td>\n",
       "      <td>BorgWarner Inc.</td>\n",
       "      <td>6.79B</td>\n",
       "      <td>31.04</td>\n",
       "      <td>-1.59%</td>\n",
       "      <td>14.17B</td>\n",
       "    </tr>\n",
       "    <tr>\n",
       "      <th>501</th>\n",
       "      <td>502</td>\n",
       "      <td>CZR</td>\n",
       "      <td>Caesars Entertainment, Inc.</td>\n",
       "      <td>6.68B</td>\n",
       "      <td>31.43</td>\n",
       "      <td>-1.72%</td>\n",
       "      <td>11.27B</td>\n",
       "    </tr>\n",
       "    <tr>\n",
       "      <th>502</th>\n",
       "      <td>503</td>\n",
       "      <td>FMC</td>\n",
       "      <td>FMC Corporation</td>\n",
       "      <td>6.19B</td>\n",
       "      <td>49.59</td>\n",
       "      <td>-1.43%</td>\n",
       "      <td>4.17B</td>\n",
       "    </tr>\n",
       "  </tbody>\n",
       "</table>\n",
       "<p>503 rows × 7 columns</p>\n",
       "</div>"
      ],
      "text/plain": [
       "    No.  Symbol                 Company Name   Market Cap   Stock Price   \\\n",
       "0      1    AAPL                   Apple Inc.     3,561.72B       236.85   \n",
       "1      2    NVDA           NVIDIA Corporation     3,328.44B       135.91   \n",
       "2      3    MSFT        Microsoft Corporation     3,114.84B       418.95   \n",
       "3      4    GOOG                Alphabet Inc.     2,357.02B       193.17   \n",
       "4      5   GOOGL                Alphabet Inc.     2,350.76B       192.04   \n",
       "..   ...     ...                          ...           ...          ...   \n",
       "498  499      CE         Celanese Corporation         7.11B        65.01   \n",
       "499  500    PARA             Paramount Global         6.99B        10.48   \n",
       "500  501     BWA              BorgWarner Inc.         6.79B        31.04   \n",
       "501  502     CZR  Caesars Entertainment, Inc.         6.68B        31.43   \n",
       "502  503     FMC              FMC Corporation         6.19B        49.59   \n",
       "\n",
       "    % Change  Revenue   \n",
       "0      -2.41%  391.04B  \n",
       "1      -3.00%  113.27B  \n",
       "2      -1.32%  254.19B  \n",
       "3      -1.14%  339.86B  \n",
       "4      -0.98%  339.86B  \n",
       "..        ...      ...  \n",
       "498     0.11%   10.48B  \n",
       "499    -1.50%   28.87B  \n",
       "500    -1.59%   14.17B  \n",
       "501    -1.72%   11.27B  \n",
       "502    -1.43%    4.17B  \n",
       "\n",
       "[503 rows x 7 columns]"
      ]
     },
     "execution_count": 85,
     "metadata": {},
     "output_type": "execute_result"
    }
   ],
   "source": [
    "df"
   ]
  },
  {
   "cell_type": "code",
   "execution_count": 89,
   "id": "d5b345f5-0b1c-40e6-99ac-9ea32185bb9e",
   "metadata": {},
   "outputs": [],
   "source": [
    "df.to_csv(r'C:\\Users\\ranji\\Desktop\\project\\spx_500.csv',index=False)"
   ]
  },
  {
   "cell_type": "code",
   "execution_count": null,
   "id": "9a5de937-5734-433f-bf1b-a2424ffef2a6",
   "metadata": {},
   "outputs": [],
   "source": []
  },
  {
   "cell_type": "code",
   "execution_count": null,
   "id": "7c074a65-b4a5-41cf-bd34-0278e9139fc5",
   "metadata": {},
   "outputs": [],
   "source": []
  },
  {
   "cell_type": "code",
   "execution_count": null,
   "id": "8d2d8d22-0fbc-4f04-925b-a17cf7e3a33b",
   "metadata": {},
   "outputs": [],
   "source": []
  },
  {
   "cell_type": "code",
   "execution_count": null,
   "id": "13aa7523-3e7d-4539-884d-379e8a2e58bd",
   "metadata": {},
   "outputs": [],
   "source": []
  },
  {
   "cell_type": "code",
   "execution_count": null,
   "id": "aba70ca0-74dc-4a17-a7a7-49391712441a",
   "metadata": {},
   "outputs": [],
   "source": []
  },
  {
   "cell_type": "code",
   "execution_count": null,
   "id": "60aae4a5-21e2-4b49-ab03-44acfe954f23",
   "metadata": {},
   "outputs": [],
   "source": []
  },
  {
   "cell_type": "code",
   "execution_count": null,
   "id": "3f5e90d7-ffcd-49a8-80d4-aeda6dbbe465",
   "metadata": {},
   "outputs": [],
   "source": []
  },
  {
   "cell_type": "code",
   "execution_count": null,
   "id": "94388623-a78e-44d8-b4ad-461f65a7cd27",
   "metadata": {},
   "outputs": [],
   "source": []
  },
  {
   "cell_type": "code",
   "execution_count": null,
   "id": "58a234e8-ce27-4304-b27e-aed25cdf6a13",
   "metadata": {},
   "outputs": [],
   "source": []
  }
 ],
 "metadata": {
  "kernelspec": {
   "display_name": "Python [conda env:base] *",
   "language": "python",
   "name": "conda-base-py"
  },
  "language_info": {
   "codemirror_mode": {
    "name": "ipython",
    "version": 3
   },
   "file_extension": ".py",
   "mimetype": "text/x-python",
   "name": "python",
   "nbconvert_exporter": "python",
   "pygments_lexer": "ipython3",
   "version": "3.12.7"
  }
 },
 "nbformat": 4,
 "nbformat_minor": 5
}
