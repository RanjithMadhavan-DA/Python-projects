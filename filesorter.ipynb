{
 "cells": [
  {
   "cell_type": "code",
   "execution_count": null,
   "id": "9759bf79-45a6-4fcc-be8b-e146d25c3432",
   "metadata": {},
   "outputs": [],
   "source": [
    "# automatic file sorter"
   ]
  },
  {
   "cell_type": "code",
   "execution_count": 2,
   "id": "49377b76-805b-43d1-b647-bf9006bd1c3c",
   "metadata": {},
   "outputs": [],
   "source": [
    "import os,shutil"
   ]
  },
  {
   "cell_type": "code",
   "execution_count": 34,
   "id": "1a8504e5-cf49-4531-8b1b-7fde5661a089",
   "metadata": {},
   "outputs": [],
   "source": [
    "path=r\"C:/Users/ranji/Desktop/project/\"  #provide the path of the file"
   ]
  },
  {
   "cell_type": "code",
   "execution_count": 78,
   "id": "97b4137b-93e0-42fb-b097-202cec211a68",
   "metadata": {},
   "outputs": [
    {
     "name": "stdout",
     "output_type": "stream",
     "text": [
      "['Annual-Report-for-the-Year-2023-24 GAEL.pdf', 'Infibeam-AR-2024-1.pdf', 'ranjith-min.png', 'Screenshot 2024-12-28 172257.png']\n"
     ]
    }
   ],
   "source": [
    "file_name=os.listdir(path)  #list the files in that path\n",
    "print(file_name)"
   ]
  },
  {
   "cell_type": "code",
   "execution_count": 80,
   "id": "5af56f66-eacd-410e-927a-a0fb2a3ad49f",
   "metadata": {},
   "outputs": [],
   "source": [
    "folder_name=['pdf files','png files']#folders we want\n",
    "for i in range(0,2):\n",
    "    if not os.path.exists(path + folder_name[i]):  # in that path that folder name is not exist \n",
    "        os.makedirs(path + folder_name[i])    #make a directory and make the folder\n",
    "\n",
    "for file in file_name:\n",
    "    if \".png\" in file and not os.path.exists(path + \"png files/\" + file):  #file .png extension exist and not exist in new folder\n",
    "        shutil.move(path + file, path + \"png files/\" + file)              # then move that into our needed folder\n",
    "    #elif \".csv\" in file and not os.path.exists(path + \"csv files/\" + file):\n",
    "     #   shutil.move(path + file, path + \"csv files/\" + file)\n",
    "    elif \".pdf\" in file and not os.path.exists(path + \"pdf files/\" + file):\n",
    "        shutil.move(path + file, path + \"pdf files/\" + file)\n",
    "        "
   ]
  },
  {
   "cell_type": "code",
   "execution_count": null,
   "id": "cc9a0cb5-3602-4a46-8300-0d64e7780998",
   "metadata": {},
   "outputs": [],
   "source": []
  },
  {
   "cell_type": "code",
   "execution_count": null,
   "id": "835a7788-cd66-4c37-94ff-1bdc3aec15d1",
   "metadata": {},
   "outputs": [],
   "source": []
  },
  {
   "cell_type": "code",
   "execution_count": null,
   "id": "bc72f482-2bfd-4620-b211-bece1a089fb5",
   "metadata": {},
   "outputs": [],
   "source": []
  },
  {
   "cell_type": "code",
   "execution_count": null,
   "id": "96dd153d-942b-49a8-b3c9-aa42ff508d5e",
   "metadata": {},
   "outputs": [],
   "source": []
  },
  {
   "cell_type": "code",
   "execution_count": null,
   "id": "ebed16bd-9201-4aca-9da4-7879a1c67da9",
   "metadata": {},
   "outputs": [],
   "source": []
  },
  {
   "cell_type": "code",
   "execution_count": null,
   "id": "f9bfc724-949b-460c-8740-1a38bce774b5",
   "metadata": {},
   "outputs": [],
   "source": []
  },
  {
   "cell_type": "code",
   "execution_count": null,
   "id": "17799b56-dade-4ae0-9ff4-d43340d7fc2c",
   "metadata": {},
   "outputs": [],
   "source": []
  },
  {
   "cell_type": "code",
   "execution_count": null,
   "id": "06b020e1-a24d-4341-8172-f0d0f1e2ee56",
   "metadata": {},
   "outputs": [],
   "source": []
  },
  {
   "cell_type": "code",
   "execution_count": null,
   "id": "d8bd7438-99bf-4cab-82e0-65f235f981b7",
   "metadata": {},
   "outputs": [],
   "source": []
  },
  {
   "cell_type": "code",
   "execution_count": null,
   "id": "ca39d36b-2a36-4572-be03-140cc9b79917",
   "metadata": {},
   "outputs": [],
   "source": []
  },
  {
   "cell_type": "code",
   "execution_count": null,
   "id": "908cab07-e333-478e-b7cc-7d3aab98ed48",
   "metadata": {},
   "outputs": [],
   "source": []
  },
  {
   "cell_type": "code",
   "execution_count": null,
   "id": "d9b376c1-deec-4771-9da7-15455c8487e4",
   "metadata": {},
   "outputs": [],
   "source": []
  },
  {
   "cell_type": "code",
   "execution_count": null,
   "id": "bb6bc3f1-d180-45e7-908f-aa9b6c683cbf",
   "metadata": {},
   "outputs": [],
   "source": []
  },
  {
   "cell_type": "code",
   "execution_count": null,
   "id": "77e93a7a-9ccf-46f3-991e-634426525c91",
   "metadata": {},
   "outputs": [],
   "source": []
  },
  {
   "cell_type": "code",
   "execution_count": null,
   "id": "fdc19458-6abd-48e4-9563-f1050107d389",
   "metadata": {},
   "outputs": [],
   "source": []
  },
  {
   "cell_type": "code",
   "execution_count": null,
   "id": "e520e521-f0d7-4744-97cd-be8014054df4",
   "metadata": {},
   "outputs": [],
   "source": []
  },
  {
   "cell_type": "code",
   "execution_count": null,
   "id": "d97ad58f-2e64-4809-a3d6-1b31c50a27cc",
   "metadata": {},
   "outputs": [],
   "source": []
  },
  {
   "cell_type": "code",
   "execution_count": null,
   "id": "e1b62165-cd05-4393-bebf-491c17ffdd4a",
   "metadata": {},
   "outputs": [],
   "source": []
  },
  {
   "cell_type": "code",
   "execution_count": 70,
   "id": "03865c73-07f0-4aee-81b2-ff8241e0ed9b",
   "metadata": {},
   "outputs": [],
   "source": [
    "for file in file_name:\n",
    "    if \".png\" in file and not os.path.exists(path + \"png files/\" + file):\n",
    "        shutil.move(path + file, path + \"png files/\" + file)\n",
    "        #elif \".csv\" in file and not os.path.exists(path + \"csv files/\" + file):\n",
    "     #   shutil.move(path + file, path + \"csv files/\" + file)\n",
    "    elif \".pdf\" in file and not os.path.exists(path + \"pdf files/\" + file):\n",
    "        shutil.move(path + file, path + \"pdf files/\" + file)\n",
    "        "
   ]
  },
  {
   "cell_type": "code",
   "execution_count": null,
   "id": "b5c9ca8f-4687-4b83-b961-7cae2515b698",
   "metadata": {},
   "outputs": [],
   "source": []
  },
  {
   "cell_type": "code",
   "execution_count": null,
   "id": "cdce4fe1-acff-48fb-aa34-cca313e33b32",
   "metadata": {},
   "outputs": [],
   "source": []
  },
  {
   "cell_type": "code",
   "execution_count": null,
   "id": "c16dde76-f409-4517-ad50-1cc53af6a5c2",
   "metadata": {},
   "outputs": [],
   "source": []
  },
  {
   "cell_type": "code",
   "execution_count": null,
   "id": "21cba0dd-8b9a-43a0-88af-c7b4dd204cd9",
   "metadata": {},
   "outputs": [],
   "source": []
  },
  {
   "cell_type": "code",
   "execution_count": null,
   "id": "0d075235-5356-4b74-b88e-17277eed01d1",
   "metadata": {},
   "outputs": [],
   "source": []
  },
  {
   "cell_type": "code",
   "execution_count": null,
   "id": "cf97d014-5945-4bf8-800e-8ceab8b2fac4",
   "metadata": {},
   "outputs": [],
   "source": []
  },
  {
   "cell_type": "code",
   "execution_count": null,
   "id": "2677765b-9cb8-4f81-bd32-fcdcecdaa8b6",
   "metadata": {},
   "outputs": [],
   "source": []
  },
  {
   "cell_type": "code",
   "execution_count": null,
   "id": "09ee5dc9-d632-4453-ace9-d92c4f6d8338",
   "metadata": {},
   "outputs": [],
   "source": []
  },
  {
   "cell_type": "code",
   "execution_count": null,
   "id": "94685fd4-987a-42ed-9b1e-14212628ea03",
   "metadata": {},
   "outputs": [],
   "source": []
  },
  {
   "cell_type": "code",
   "execution_count": null,
   "id": "a305e26f-76b3-4982-bc1d-0f9e6fd15c5c",
   "metadata": {},
   "outputs": [],
   "source": []
  },
  {
   "cell_type": "code",
   "execution_count": null,
   "id": "2202a649-47aa-4fd9-8ac3-9fb12cf61ab4",
   "metadata": {},
   "outputs": [],
   "source": []
  },
  {
   "cell_type": "code",
   "execution_count": null,
   "id": "2aff110d-f7e5-4c88-a625-888633bdc87b",
   "metadata": {},
   "outputs": [],
   "source": []
  },
  {
   "cell_type": "code",
   "execution_count": null,
   "id": "92df7c10-f763-4753-b35c-fc847ca69686",
   "metadata": {},
   "outputs": [],
   "source": []
  },
  {
   "cell_type": "code",
   "execution_count": null,
   "id": "35d5d287-497a-4942-a55e-99870c033895",
   "metadata": {},
   "outputs": [],
   "source": []
  }
 ],
 "metadata": {
  "kernelspec": {
   "display_name": "Python [conda env:base] *",
   "language": "python",
   "name": "conda-base-py"
  },
  "language_info": {
   "codemirror_mode": {
    "name": "ipython",
    "version": 3
   },
   "file_extension": ".py",
   "mimetype": "text/x-python",
   "name": "python",
   "nbconvert_exporter": "python",
   "pygments_lexer": "ipython3",
   "version": "3.12.7"
  }
 },
 "nbformat": 4,
 "nbformat_minor": 5
}
